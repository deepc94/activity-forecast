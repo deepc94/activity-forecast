{
 "cells": [
  {
   "cell_type": "code",
   "execution_count": 1,
   "metadata": {},
   "outputs": [],
   "source": [
    "import numpy as np\n",
    "np.random.seed(1)\n",
    "import pandas as pd\n",
    "import matplotlib.pyplot as plt\n",
    "from sklearn.preprocessing import MinMaxScaler\n",
    "from sklearn.utils import class_weight as clw\n",
    "from tqdm.notebook import tqdm\n",
    "import matplotlib.pyplot as plt\n",
    "\n",
    "%matplotlib inline\n",
    "\n",
    "%load_ext autoreload\n",
    "%autoreload 2"
   ]
  },
  {
   "cell_type": "markdown",
   "metadata": {},
   "source": [
    "# Data Preprocessing"
   ]
  },
  {
   "cell_type": "code",
   "execution_count": 2,
   "metadata": {},
   "outputs": [],
   "source": [
    "df=pd.read_pickle(\"data/train_data.pkl\", compression='gzip')\n",
    "example = df.loc[[0]][1396:1406]"
   ]
  },
  {
   "cell_type": "code",
   "execution_count": 3,
   "metadata": {},
   "outputs": [
    {
     "data": {
      "text/html": [
       "<div>\n",
       "<style scoped>\n",
       "    .dataframe tbody tr th:only-of-type {\n",
       "        vertical-align: middle;\n",
       "    }\n",
       "\n",
       "    .dataframe tbody tr th {\n",
       "        vertical-align: top;\n",
       "    }\n",
       "\n",
       "    .dataframe thead th {\n",
       "        text-align: right;\n",
       "    }\n",
       "</style>\n",
       "<table border=\"1\" class=\"dataframe\">\n",
       "  <thead>\n",
       "    <tr style=\"text-align: right;\">\n",
       "      <th></th>\n",
       "      <th></th>\n",
       "      <th>timestamp</th>\n",
       "      <th>raw_acc:magnitude_stats:mean</th>\n",
       "      <th>raw_acc:magnitude_stats:std</th>\n",
       "      <th>raw_acc:magnitude_stats:moment3</th>\n",
       "      <th>raw_acc:magnitude_stats:moment4</th>\n",
       "      <th>raw_acc:magnitude_stats:percentile25</th>\n",
       "      <th>raw_acc:magnitude_stats:percentile50</th>\n",
       "      <th>raw_acc:magnitude_stats:percentile75</th>\n",
       "      <th>raw_acc:magnitude_stats:value_entropy</th>\n",
       "      <th>raw_acc:magnitude_stats:time_entropy</th>\n",
       "      <th>...</th>\n",
       "      <th>discrete:time_of_day:between9and15</th>\n",
       "      <th>discrete:time_of_day:between12and18</th>\n",
       "      <th>discrete:time_of_day:between15and21</th>\n",
       "      <th>discrete:time_of_day:between18and24</th>\n",
       "      <th>discrete:time_of_day:between21and3</th>\n",
       "      <th>label:LYING_DOWN</th>\n",
       "      <th>label:SITTING</th>\n",
       "      <th>label:FIX_walking</th>\n",
       "      <th>label:TALKING</th>\n",
       "      <th>label:OR_standing</th>\n",
       "    </tr>\n",
       "    <tr>\n",
       "      <th>ID</th>\n",
       "      <th>Time</th>\n",
       "      <th></th>\n",
       "      <th></th>\n",
       "      <th></th>\n",
       "      <th></th>\n",
       "      <th></th>\n",
       "      <th></th>\n",
       "      <th></th>\n",
       "      <th></th>\n",
       "      <th></th>\n",
       "      <th></th>\n",
       "      <th></th>\n",
       "      <th></th>\n",
       "      <th></th>\n",
       "      <th></th>\n",
       "      <th></th>\n",
       "      <th></th>\n",
       "      <th></th>\n",
       "      <th></th>\n",
       "      <th></th>\n",
       "      <th></th>\n",
       "      <th></th>\n",
       "    </tr>\n",
       "  </thead>\n",
       "  <tbody>\n",
       "    <tr>\n",
       "      <th rowspan=\"5\" valign=\"top\">0</th>\n",
       "      <th>1</th>\n",
       "      <td>1444756418</td>\n",
       "      <td>0.993676</td>\n",
       "      <td>0.003359</td>\n",
       "      <td>0.002244</td>\n",
       "      <td>0.006066</td>\n",
       "      <td>0.992219</td>\n",
       "      <td>0.993594</td>\n",
       "      <td>0.995141</td>\n",
       "      <td>1.831648</td>\n",
       "      <td>6.684606</td>\n",
       "      <td>...</td>\n",
       "      <td>1.0</td>\n",
       "      <td>0.0</td>\n",
       "      <td>0.0</td>\n",
       "      <td>0.0</td>\n",
       "      <td>0.0</td>\n",
       "      <td>0.0</td>\n",
       "      <td>1.0</td>\n",
       "      <td>0.0</td>\n",
       "      <td>0.0</td>\n",
       "      <td>0.0</td>\n",
       "    </tr>\n",
       "    <tr>\n",
       "      <th>2</th>\n",
       "      <td>1444756478</td>\n",
       "      <td>0.993416</td>\n",
       "      <td>0.004462</td>\n",
       "      <td>-0.004260</td>\n",
       "      <td>0.009438</td>\n",
       "      <td>0.991730</td>\n",
       "      <td>0.993517</td>\n",
       "      <td>0.995347</td>\n",
       "      <td>1.475749</td>\n",
       "      <td>6.684602</td>\n",
       "      <td>...</td>\n",
       "      <td>1.0</td>\n",
       "      <td>0.0</td>\n",
       "      <td>0.0</td>\n",
       "      <td>0.0</td>\n",
       "      <td>0.0</td>\n",
       "      <td>0.0</td>\n",
       "      <td>1.0</td>\n",
       "      <td>0.0</td>\n",
       "      <td>0.0</td>\n",
       "      <td>0.0</td>\n",
       "    </tr>\n",
       "    <tr>\n",
       "      <th>3</th>\n",
       "      <td>1444756538</td>\n",
       "      <td>0.993398</td>\n",
       "      <td>0.005047</td>\n",
       "      <td>0.006932</td>\n",
       "      <td>0.015842</td>\n",
       "      <td>0.991777</td>\n",
       "      <td>0.993346</td>\n",
       "      <td>0.995080</td>\n",
       "      <td>0.877374</td>\n",
       "      <td>6.684599</td>\n",
       "      <td>...</td>\n",
       "      <td>1.0</td>\n",
       "      <td>0.0</td>\n",
       "      <td>0.0</td>\n",
       "      <td>0.0</td>\n",
       "      <td>0.0</td>\n",
       "      <td>0.0</td>\n",
       "      <td>1.0</td>\n",
       "      <td>0.0</td>\n",
       "      <td>0.0</td>\n",
       "      <td>0.0</td>\n",
       "    </tr>\n",
       "    <tr>\n",
       "      <th>4</th>\n",
       "      <td>1444756598</td>\n",
       "      <td>0.993372</td>\n",
       "      <td>0.005542</td>\n",
       "      <td>-0.006457</td>\n",
       "      <td>0.018952</td>\n",
       "      <td>0.991942</td>\n",
       "      <td>0.993357</td>\n",
       "      <td>0.994779</td>\n",
       "      <td>0.835945</td>\n",
       "      <td>6.684596</td>\n",
       "      <td>...</td>\n",
       "      <td>1.0</td>\n",
       "      <td>0.0</td>\n",
       "      <td>0.0</td>\n",
       "      <td>0.0</td>\n",
       "      <td>0.0</td>\n",
       "      <td>0.0</td>\n",
       "      <td>1.0</td>\n",
       "      <td>0.0</td>\n",
       "      <td>0.0</td>\n",
       "      <td>0.0</td>\n",
       "    </tr>\n",
       "    <tr>\n",
       "      <th>5</th>\n",
       "      <td>1444756658</td>\n",
       "      <td>0.996412</td>\n",
       "      <td>0.065061</td>\n",
       "      <td>0.135599</td>\n",
       "      <td>0.235594</td>\n",
       "      <td>0.990989</td>\n",
       "      <td>0.993436</td>\n",
       "      <td>0.996219</td>\n",
       "      <td>0.894449</td>\n",
       "      <td>6.682735</td>\n",
       "      <td>...</td>\n",
       "      <td>1.0</td>\n",
       "      <td>0.0</td>\n",
       "      <td>0.0</td>\n",
       "      <td>0.0</td>\n",
       "      <td>0.0</td>\n",
       "      <td>0.0</td>\n",
       "      <td>1.0</td>\n",
       "      <td>0.0</td>\n",
       "      <td>0.0</td>\n",
       "      <td>0.0</td>\n",
       "    </tr>\n",
       "  </tbody>\n",
       "</table>\n",
       "<p>5 rows × 231 columns</p>\n",
       "</div>"
      ],
      "text/plain": [
       "          timestamp  raw_acc:magnitude_stats:mean  \\\n",
       "ID Time                                             \n",
       "0  1     1444756418                      0.993676   \n",
       "   2     1444756478                      0.993416   \n",
       "   3     1444756538                      0.993398   \n",
       "   4     1444756598                      0.993372   \n",
       "   5     1444756658                      0.996412   \n",
       "\n",
       "         raw_acc:magnitude_stats:std  raw_acc:magnitude_stats:moment3  \\\n",
       "ID Time                                                                 \n",
       "0  1                        0.003359                         0.002244   \n",
       "   2                        0.004462                        -0.004260   \n",
       "   3                        0.005047                         0.006932   \n",
       "   4                        0.005542                        -0.006457   \n",
       "   5                        0.065061                         0.135599   \n",
       "\n",
       "         raw_acc:magnitude_stats:moment4  \\\n",
       "ID Time                                    \n",
       "0  1                            0.006066   \n",
       "   2                            0.009438   \n",
       "   3                            0.015842   \n",
       "   4                            0.018952   \n",
       "   5                            0.235594   \n",
       "\n",
       "         raw_acc:magnitude_stats:percentile25  \\\n",
       "ID Time                                         \n",
       "0  1                                 0.992219   \n",
       "   2                                 0.991730   \n",
       "   3                                 0.991777   \n",
       "   4                                 0.991942   \n",
       "   5                                 0.990989   \n",
       "\n",
       "         raw_acc:magnitude_stats:percentile50  \\\n",
       "ID Time                                         \n",
       "0  1                                 0.993594   \n",
       "   2                                 0.993517   \n",
       "   3                                 0.993346   \n",
       "   4                                 0.993357   \n",
       "   5                                 0.993436   \n",
       "\n",
       "         raw_acc:magnitude_stats:percentile75  \\\n",
       "ID Time                                         \n",
       "0  1                                 0.995141   \n",
       "   2                                 0.995347   \n",
       "   3                                 0.995080   \n",
       "   4                                 0.994779   \n",
       "   5                                 0.996219   \n",
       "\n",
       "         raw_acc:magnitude_stats:value_entropy  \\\n",
       "ID Time                                          \n",
       "0  1                                  1.831648   \n",
       "   2                                  1.475749   \n",
       "   3                                  0.877374   \n",
       "   4                                  0.835945   \n",
       "   5                                  0.894449   \n",
       "\n",
       "         raw_acc:magnitude_stats:time_entropy  ...  \\\n",
       "ID Time                                        ...   \n",
       "0  1                                 6.684606  ...   \n",
       "   2                                 6.684602  ...   \n",
       "   3                                 6.684599  ...   \n",
       "   4                                 6.684596  ...   \n",
       "   5                                 6.682735  ...   \n",
       "\n",
       "         discrete:time_of_day:between9and15  \\\n",
       "ID Time                                       \n",
       "0  1                                    1.0   \n",
       "   2                                    1.0   \n",
       "   3                                    1.0   \n",
       "   4                                    1.0   \n",
       "   5                                    1.0   \n",
       "\n",
       "         discrete:time_of_day:between12and18  \\\n",
       "ID Time                                        \n",
       "0  1                                     0.0   \n",
       "   2                                     0.0   \n",
       "   3                                     0.0   \n",
       "   4                                     0.0   \n",
       "   5                                     0.0   \n",
       "\n",
       "         discrete:time_of_day:between15and21  \\\n",
       "ID Time                                        \n",
       "0  1                                     0.0   \n",
       "   2                                     0.0   \n",
       "   3                                     0.0   \n",
       "   4                                     0.0   \n",
       "   5                                     0.0   \n",
       "\n",
       "         discrete:time_of_day:between18and24  \\\n",
       "ID Time                                        \n",
       "0  1                                     0.0   \n",
       "   2                                     0.0   \n",
       "   3                                     0.0   \n",
       "   4                                     0.0   \n",
       "   5                                     0.0   \n",
       "\n",
       "         discrete:time_of_day:between21and3  label:LYING_DOWN  label:SITTING  \\\n",
       "ID Time                                                                        \n",
       "0  1                                    0.0               0.0            1.0   \n",
       "   2                                    0.0               0.0            1.0   \n",
       "   3                                    0.0               0.0            1.0   \n",
       "   4                                    0.0               0.0            1.0   \n",
       "   5                                    0.0               0.0            1.0   \n",
       "\n",
       "         label:FIX_walking  label:TALKING  label:OR_standing  \n",
       "ID Time                                                       \n",
       "0  1                   0.0            0.0                0.0  \n",
       "   2                   0.0            0.0                0.0  \n",
       "   3                   0.0            0.0                0.0  \n",
       "   4                   0.0            0.0                0.0  \n",
       "   5                   0.0            0.0                0.0  \n",
       "\n",
       "[5 rows x 231 columns]"
      ]
     },
     "execution_count": 3,
     "metadata": {},
     "output_type": "execute_result"
    }
   ],
   "source": [
    "df.head()"
   ]
  },
  {
   "cell_type": "code",
   "execution_count": 4,
   "metadata": {},
   "outputs": [],
   "source": [
    "# create train, test, val splits with separated timestamps, sensor readings and action labels\n",
    "df_train = df.loc[list(range(11))+list(range(12,21))]\n",
    "ts_train, X_train, y_train = df_train.iloc[:,0], df_train.iloc[:,1:226], df_train.iloc[:,226:]\n",
    "df_test = df.loc[[11]+list(range(21,23))]\n",
    "ts_test, X_test, y_test = df_test.iloc[:,0], df_test.iloc[:,1:226], df_test.iloc[:,226:]\n",
    "df_val = df.loc[list(range(23,26))]\n",
    "ts_val, X_val, y_val = df_val.iloc[:,0], df_val.iloc[:,1:226], df_val.iloc[:,226:]"
   ]
  },
  {
   "cell_type": "code",
   "execution_count": 5,
   "metadata": {},
   "outputs": [],
   "source": [
    "def stats(arr : np.ndarray):\n",
    "    print(\"Shape: \", arr.shape)\n",
    "    print(\"DType: \", arr.dtype)\n",
    "    print(\"NaNcount: \", np.count_nonzero(np.isnan(arr)))\n",
    "    \n",
    "def to_numpy(ts, xx, yy, msk, scaler):\n",
    "    t = []\n",
    "    x = []\n",
    "    y = []\n",
    "    m = []\n",
    "    \n",
    "    for i,_ in ts.groupby(level=0):\n",
    "        # timestamps\n",
    "        t.append(ts.loc[i].values)\n",
    "        # features\n",
    "        x.append(scaler.transform(xx.loc[i].values))\n",
    "        # labels\n",
    "        sample_df = yy.loc[i].loc[:,'label:LYING_DOWN':'label:OR_standing']\n",
    "        sample_df.interpolate(method='nearest', axis=0, limit_direction='both', inplace=True)\n",
    "        sample_df.fillna(method='ffill', axis=0, inplace=True)\n",
    "        sample_df.fillna(method='bfill', axis=0, inplace=True)\n",
    "        sample_df.fillna(0., axis=0, inplace=True)\n",
    "        y.append(sample_df.values)\n",
    "        # masks\n",
    "        m.append(msk.loc[i].values)\n",
    "        \n",
    "    return (t, x, y, m)"
   ]
  },
  {
   "cell_type": "code",
   "execution_count": null,
   "metadata": {},
   "outputs": [],
   "source": []
  },
  {
   "cell_type": "code",
   "execution_count": 6,
   "metadata": {
    "scrolled": true
   },
   "outputs": [],
   "source": [
    "# calculate the missing mask\n",
    "missing_mask_train = X_train.isna().astype(int)\n",
    "missing_mask_test = X_test.isna().astype(int)\n",
    "missing_mask_val = X_val.isna().astype(int)\n",
    "\n",
    "# compute the means and variances of the training set and save for later\n",
    "scaler = MinMaxScaler((-1,1))\n",
    "scaler.fit(X_train.values)\n",
    "\n",
    "# fill missing features with column means\n",
    "X_train.fillna(X_train.mean(), inplace=True)\n",
    "X_val.fillna(X_train.mean(), inplace=True)\n",
    "X_test.fillna(X_train.mean(), inplace=True)"
   ]
  },
  {
   "cell_type": "code",
   "execution_count": 29,
   "metadata": {},
   "outputs": [],
   "source": [
    "import pickle\n",
    "with open('mean.pkl', 'wb') as f:\n",
    "    pickle.dump(X_train.mean(), f)"
   ]
  },
  {
   "cell_type": "code",
   "execution_count": 20,
   "metadata": {},
   "outputs": [
    {
     "name": "stderr",
     "output_type": "stream",
     "text": [
      "/home/dchakraborty/miniconda3/envs/pytorch/lib/python3.6/site-packages/sklearn/externals/joblib/__init__.py:15: DeprecationWarning: sklearn.externals.joblib is deprecated in 0.21 and will be removed in 0.23. Please import this functionality directly from joblib, which can be installed with: pip install joblib. If this warning is raised when loading pickled models, you may need to re-serialize those models with scikit-learn 0.21+.\n",
      "  warnings.warn(msg, category=DeprecationWarning)\n"
     ]
    },
    {
     "data": {
      "text/plain": [
       "['scaler.pkl']"
      ]
     },
     "execution_count": 20,
     "metadata": {},
     "output_type": "execute_result"
    }
   ],
   "source": [
    "from sklearn.externals import joblib \n",
    "joblib.dump(scaler, 'scaler.pkl') "
   ]
  },
  {
   "cell_type": "code",
   "execution_count": 22,
   "metadata": {},
   "outputs": [],
   "source": [
    "ts_tr, X_tr, y_tr, m_tr = to_numpy(ts_train, X_train, y_train, missing_mask_train, scaler)\n",
    "ts_va, X_va, y_va, m_va = to_numpy(ts_val, X_val, y_val, missing_mask_val, scaler)\n",
    "ts_te, X_te, y_te, m_te = to_numpy(ts_test, X_test, y_test, missing_mask_test, scaler)"
   ]
  },
  {
   "cell_type": "code",
   "execution_count": 28,
   "metadata": {},
   "outputs": [
    {
     "data": {
      "text/plain": [
       "array([[-0.71599877, -0.95000505, -0.63030798, -0.89462349,  0.42149384,\n",
       "        -0.48290535, -0.8231565 , -0.85087855,  0.99665714,  0.26852568,\n",
       "        -0.99967272, -0.99891594, -0.99911275, -0.98235356, -0.99044966,\n",
       "        -0.99057786, -0.23234863, -0.05095584, -0.03422228,  1.00332665,\n",
       "        -0.9841299 , -0.98763938, -0.9343293 ,  0.25314969,  0.75340846,\n",
       "        -0.22363464, -0.98066595, -0.96655997, -0.78196558, -0.94258484,\n",
       "        -0.97516858, -0.98009119, -0.99260628, -0.89829374,  0.86795662,\n",
       "        -0.03364608, -0.008911  , -0.05586188, -0.04890962, -0.08970991,\n",
       "        -0.78410967, -0.76401906, -0.94072851,  0.07036987,  0.22953433,\n",
       "         0.27742445, -0.95895354, -0.97432833, -0.9992111 , -0.57235793,\n",
       "        -0.46893167, -0.04140756, -0.87584145, -0.99477729, -0.1234155 ,\n",
       "        -0.99431807, -0.87694889, -0.87678137, -0.87376594,  0.24506248,\n",
       "         0.99980892, -0.029258  , -0.99823022, -0.99816503, -0.99991095,\n",
       "        -0.99946917, -0.80196392, -1.        , -1.        , -0.07308051,\n",
       "        -0.03108211,  0.02850451, -0.99677918, -0.98845265, -0.9969899 ,\n",
       "         0.89023278, -0.27571721, -0.41359194,  0.99975852,  0.99978007,\n",
       "         0.99962683,  0.99945537,  0.99906711, -0.86132772, -0.80478639,\n",
       "        -0.47175545, -0.71867958, -0.18594395, -0.78194403, -0.87989134,\n",
       "         0.2114572 ,  0.84858116,  0.78779972, -0.77649776, -0.45300529,\n",
       "        -0.63230766, -0.32813907, -0.81067824, -0.33606579, -0.76112333,\n",
       "        -0.29883578, -0.28539608, -0.89306148, -0.82798241, -0.69960836,\n",
       "        -0.78698719,  0.20703368, -0.10822087, -0.26491159,  0.78447274,\n",
       "         0.34875773,  0.35993673,  0.03735018,  0.03292606,  0.59129886,\n",
       "        -0.0394257 , -0.17418176, -0.6617226 , -0.54533899,  0.47693438,\n",
       "        -0.60387253, -0.50185376, -0.67533999, -0.37496511,  0.9206676 ,\n",
       "         0.88880967,  0.88708057,  0.90037396,  0.80938011, -0.03023525,\n",
       "        -0.41071884,  0.01159265, -0.28955041, -0.00603891, -0.42974862,\n",
       "         0.02611676, -0.32134763, -0.28393692, -0.50681766, -0.90776231,\n",
       "        -0.92231877, -0.86066076, -0.88872546, -0.88021909, -0.92496878,\n",
       "        -0.79084467, -0.95238488, -0.97983346,  0.10925157, -0.99575909,\n",
       "        -0.9957281 ,  0.45210314, -0.38716081, -0.99867763, -0.99538546,\n",
       "         0.3671883 ,  0.09016445,  0.82429385,  0.02168386,  0.41771527,\n",
       "         0.17732497,  0.42880994,  0.22036875,  0.44118611,  0.05643855,\n",
       "         0.32910416,  0.06402411,  0.28761705, -0.55536098, -0.50943483,\n",
       "        -0.66576408, -0.61678933, -0.62412813, -0.34929064, -0.44154688,\n",
       "        -0.52587873, -0.57102819, -0.60138118, -0.62257733, -0.67279331,\n",
       "        -0.68041552,  0.9977038 , -0.99774053, -1.        , -1.        ,\n",
       "        -1.        ,  1.        , -1.        ,  1.        , -1.        ,\n",
       "        -1.        , -1.        , -1.        , -1.        , -1.        ,\n",
       "         1.        , -1.        , -1.        ,  1.        , -1.        ,\n",
       "        -1.        ,  1.        , -1.        , -1.        , -1.        ,\n",
       "        -1.        ,  1.        , -1.        , -1.        ,  0.28916557,\n",
       "         0.86607227, -0.84      , -1.        ,  0.73428424,  0.28      ,\n",
       "        -0.44043068,  0.68930047, -1.        , -1.        , -1.        ,\n",
       "         1.        ,  1.        , -1.        , -1.        , -1.        ],\n",
       "       [-0.72144648, -0.93891275, -0.64602626, -0.93472791,  0.37995285,\n",
       "        -0.49269853, -0.81005014,  0.18065483,  0.99496565,  0.26699983,\n",
       "        -0.99928559, -0.98401362, -0.95622509, -0.9103435 , -0.98623967,\n",
       "        -0.96540549, -0.68150661, -0.20506999,  0.49182953,  0.79908282,\n",
       "        -0.87303615, -0.91496325, -0.86763718,  0.88066144, -0.39100492,\n",
       "        -0.55787785, -0.85003473, -0.79797391, -0.65788036, -0.81728008,\n",
       "        -0.94827773, -0.90450893, -0.92321339,  0.07026327,  0.78675406,\n",
       "         0.1765057 ,  0.46838303,  0.49525352, -0.05127611, -0.01246656,\n",
       "        -0.4008259 ,  0.06193026, -0.90886809, -0.00521069,  0.20256093,\n",
       "         0.20327196, -0.78817282, -0.8521022 , -0.8314019 , -0.30214426,\n",
       "         0.34075435,  0.24186786, -0.86838082, -0.99259639, -0.12051651,\n",
       "        -0.9884974 , -0.86950991, -0.86917492, -0.86894519,  0.31596694,\n",
       "         0.99966471, -0.01173244, -0.99583276, -0.99846771, -0.99991427,\n",
       "        -0.99934308, -0.79411927, -0.13164777, -0.35190417, -0.0784952 ,\n",
       "        -0.0250101 ,  0.02794878, -0.98864145, -0.99095821, -0.99315978,\n",
       "         0.37152321, -0.47871249,  0.00225264,  0.99872819,  0.9985065 ,\n",
       "         0.99899024,  0.99945275,  0.99899424, -0.87096214, -0.88603216,\n",
       "        -0.29619582, -0.80132076, -0.17177323, -0.80470543, -0.91010862,\n",
       "         0.01365608,  0.92931297,  0.78482086, -0.97333444, -0.87619966,\n",
       "        -0.95622362, -0.95819143, -0.95675694, -0.67321339, -0.71439404,\n",
       "        -0.65888025,  0.39501651, -0.39929742, -0.3331401 , -0.8628677 ,\n",
       "        -0.68909831,  0.45486455,  0.882834  ,  0.34803928,  0.55713494,\n",
       "        -0.8455541 , -0.83254906, -0.96267476, -0.97742198,  0.42720361,\n",
       "        -0.85637011, -0.7915426 , -0.87371535, -0.9152761 ,  0.54284088,\n",
       "        -0.68304454, -0.55995154, -0.87160728, -0.76758794,  0.96462446,\n",
       "         0.89321576,  0.78454179,  0.70284944,  0.22796098,  0.92881789,\n",
       "        -0.87097854, -0.06174962, -0.85741062,  0.3210894 , -0.64765567,\n",
       "         0.08008666, -0.62128794, -1.        , -0.39130435, -0.99595182,\n",
       "        -0.99115424, -0.86066076, -0.88872546, -0.94936709, -0.9802703 ,\n",
       "        -0.94451039, -0.95238488, -0.99911968, -0.02697527, -0.9999571 ,\n",
       "        -0.99982412,  0.45220482, -0.38716604, -0.99999428, -0.99998747,\n",
       "         0.00305882, -0.09480737,  0.82555857,  0.0808006 ,  0.50428159,\n",
       "         0.36928911,  0.56654839,  0.23081454,  0.48056996, -0.01125365,\n",
       "         0.39305939,  0.05012655,  0.28544255, -0.50065697, -0.77611554,\n",
       "        -0.77477519, -0.77747952, -0.83210887, -0.81388739, -0.81379284,\n",
       "        -0.81360518, -0.82980123, -0.75404425, -0.86096257, -0.81272056,\n",
       "        -0.88689187,  0.99999717, -0.99999727, -1.        , -1.        ,\n",
       "        -1.        ,  1.        , -1.        , -1.        , -1.        ,\n",
       "         1.        , -1.        , -1.        , -1.        ,  1.        ,\n",
       "        -1.        , -1.        , -1.        ,  1.        , -1.        ,\n",
       "        -1.        ,  1.        , -1.        , -1.        , -1.        ,\n",
       "        -1.        ,  1.        , -1.        , -1.        ,  0.46086673,\n",
       "         0.85445457, -0.84      , -1.        ,  0.71936089, -0.48      ,\n",
       "        -0.44043068,  1.07439451, -1.        , -1.        , -1.        ,\n",
       "        -1.        , -1.        ,  1.        ,  1.        , -1.        ],\n",
       "       [-0.72289166, -0.95450747, -0.68117141, -0.96090624,  0.38045155,\n",
       "        -0.49667237, -0.81181057,  0.50721106,  0.9971452 ,  0.2695603 ,\n",
       "        -0.99945143, -0.99046612, -0.94785846, -0.88746281, -0.98508283,\n",
       "        -0.83329165, -0.72249898, -0.40052246,  0.42189935,  0.7849746 ,\n",
       "        -0.96103897, -0.97672347, -0.91112848,  0.51465976,  0.24106348,\n",
       "        -0.31249087, -0.95531642, -0.96525952, -0.7999779 , -0.9719884 ,\n",
       "        -0.9642517 , -0.95832394, -0.97431709,  0.45720239,  0.91376255,\n",
       "         0.22259538, -0.03884139,  0.10229115,  0.24518538,  0.42166229,\n",
       "        -0.39601795,  0.01853099, -0.90353839,  0.07115553,  0.22287624,\n",
       "         0.27756701, -0.95009654, -0.95766729, -0.98418456, -0.46840767,\n",
       "        -0.11635379,  0.0027915 , -0.86191361, -0.99951394, -0.12662877,\n",
       "        -0.99939835, -0.86191702, -0.86190718, -0.86228402,  0.74614705,\n",
       "         0.9999982 , -0.01266076, -0.99987303, -0.9999056 , -0.99998139,\n",
       "        -0.99984511, -0.79601237, -0.27427747, -0.67013139, -0.08052068,\n",
       "        -0.04378059,  0.0306546 , -0.99898826, -0.99895336, -0.99875906,\n",
       "        -0.62459147,  0.35807687, -0.6357436 ,  0.9999356 ,  0.99997443,\n",
       "         0.99998293,  0.99998688,  0.99998563, -0.8687419 , -0.96678444,\n",
       "        -0.40545216, -0.96121862, -0.14314768, -0.78938201, -0.90921393,\n",
       "         0.5816859 ,  0.40048481,  0.78685041, -0.99758594, -0.98589521,\n",
       "        -0.99088489, -0.88104944, -0.95976894, -0.88809143, -0.64919748,\n",
       "        -0.46822474,  0.10568179, -0.93344086, -0.98059218, -0.97902112,\n",
       "        -0.97707632, -0.16790297, -0.17436432, -0.1119737 ,  0.46714187,\n",
       "        -0.97924543, -0.86170313, -0.9590736 , -0.818102  ,  0.46527692,\n",
       "        -0.8460188 , -0.72481333, -0.88197201, -0.41831937,  0.46458641,\n",
       "        -0.99746473, -0.98542208, -0.98920279, -0.89426772,  0.99875284,\n",
       "         0.99873797,  0.999475  , -0.08375886, -0.01499642, -0.03023525,\n",
       "        -0.41071884,  0.01159265, -0.28955041, -0.00603891, -0.42974862,\n",
       "         0.02611676, -0.32134763, -0.28393692, -0.39130435, -0.99986   ,\n",
       "        -0.99921552, -0.86066076, -0.88872546, -0.94936709, -0.9802703 ,\n",
       "        -0.92231455, -0.95238488, -0.99992403, -0.35252861, -0.99575909,\n",
       "        -0.9957281 ,  0.45210314, -0.38716081, -0.99867763, -0.99538546,\n",
       "         0.25783164, -0.06305002,  0.23933741,  0.33919178, -0.11178837,\n",
       "         0.51434536,  0.10841883,  0.06619612,  0.42516569, -0.10444642,\n",
       "         0.29828972, -0.30441495,  0.33817256, -0.3168925 , -0.49800499,\n",
       "        -0.37178293, -0.07452883,  0.05283861, -0.14649945, -0.11193278,\n",
       "        -0.32741821, -0.23623374, -0.30232598, -0.16981513, -0.23008575,\n",
       "        -0.4957615 ,  0.91460691, -0.90810255, -1.        , -1.        ,\n",
       "        -1.        ,  1.        ,  1.        , -1.        , -1.        ,\n",
       "        -1.        , -1.        , -1.        , -1.        , -1.        ,\n",
       "         1.        , -1.        , -1.        , -1.        ,  1.        ,\n",
       "        -1.        ,  1.        , -1.        , -1.        , -1.        ,\n",
       "        -1.        ,  1.        , -1.        , -1.        ,  0.15556687,\n",
       "         0.85714858, -0.84      , -1.        ,  0.85420553, -0.5       ,\n",
       "        -0.44043068,  0.84181706, -1.        , -1.        , -1.        ,\n",
       "        -1.        , -1.        ,  1.        ,  1.        , -1.        ]])"
      ]
     },
     "execution_count": 28,
     "metadata": {},
     "output_type": "execute_result"
    }
   ],
   "source": [
    "X_te[0]"
   ]
  },
  {
   "cell_type": "code",
   "execution_count": 8,
   "metadata": {},
   "outputs": [],
   "source": [
    "def create_examples(timestamps, Xs, ys, masks, seq_len=30):\n",
    "    X = []\n",
    "    X_y = []\n",
    "    Y = []\n",
    "    Y_x = []\n",
    "    for user in range(len(Xs)): #, desc='User: '):\n",
    "        print(\"Processing User {}\".format(user+1))\n",
    "        ts_user = timestamps[user]\n",
    "        X_user = Xs[user]\n",
    "        y_user = ys[user]\n",
    "        msk_user = masks[user]\n",
    "        n_train = 0\n",
    "        for i in range(X_user.shape[0]): #, desc='Batch: '):\n",
    "            end_ix = i+np.random.choice(np.arange(1,seq_len+1))\n",
    "#             end_ix = i+seq_len\n",
    "            if end_ix > Xs[user].shape[0]-1:\n",
    "                break\n",
    "            xx = X_user[i:end_ix, :] # input features\n",
    "            msk = msk_user[i:end_ix, :] # input masks\n",
    "            msk_comp = np.where(msk==0, 1, -1)\n",
    "            xy = y_user[i:end_ix] # input labels\n",
    "            \n",
    "            # computation for delta_t\n",
    "            ts = ts_user[i:end_ix]\n",
    "            S = np.ones_like(msk) * ts.reshape(-1,1)\n",
    "            delta_t = np.zeros_like(msk) # input delta times\n",
    "            for t in range(1,delta_t.shape[0]):\n",
    "                delta_t[t,:] = S[t,:] - S[t-1,:] + msk[t-1,:]*delta_t[t-1,:]\n",
    "            \n",
    "            # find the last target within 1 hr from now\n",
    "            y_ix = end_ix\n",
    "            last_ts = ts_user[end_ix-1]\n",
    "            choose_y_ix = []\n",
    "            while (y_ix < Xs[user].shape[0]) and (ts_user[y_ix]-last_ts <= 3600):\n",
    "                choose_y_ix.append(y_ix)\n",
    "                y_ix += 1\n",
    "                \n",
    "            if (y_ix == end_ix): # no targets within 1 hr\n",
    "                continue\n",
    "#             y = y_user[end_ix:y_ix]\n",
    "#             yx = np.ones(msk.shape[1])*ts_user[end_ix:y_ix][:,None] - S[-1,:] + msk[-1,:]*delta_t[-1,:]  \n",
    "            y_ix = np.random.choice(choose_y_ix) # pick a random target within 1 hr\n",
    "            y = y_user[y_ix] # target label\n",
    "            yx = np.ones(msk.shape[1])*ts_user[y_ix] - S[-1,:] + msk[-1,:]*delta_t[-1,:] # target delta time\n",
    "            Y.append(y.astype(np.int64))\n",
    "            Y_x.append(yx/3600.)\n",
    "            X.append(np.hstack((xx, msk_comp, delta_t/3600.)))\n",
    "            X_y.append(xy.astype(np.int64))\n",
    "                \n",
    "            n_train += 1\n",
    "            \n",
    "        print(\"Added {} examples from User {}\".format(n_train, user+1))\n",
    "\n",
    "    return (X, X_y, np.array(Y), np.array(Y_x))\n",
    "        "
   ]
  },
  {
   "cell_type": "code",
   "execution_count": 9,
   "metadata": {},
   "outputs": [
    {
     "name": "stdout",
     "output_type": "stream",
     "text": [
      "Processing User 1\n",
      "Added 1858 examples from User 1\n",
      "Processing User 2\n",
      "Added 3917 examples from User 2\n",
      "Processing User 3\n",
      "Added 8236 examples from User 3\n",
      "Processing User 4\n",
      "Added 1907 examples from User 4\n",
      "Processing User 5\n",
      "Added 1909 examples from User 5\n",
      "Processing User 6\n",
      "Added 1946 examples from User 6\n",
      "Processing User 7\n",
      "Added 241 examples from User 7\n",
      "Processing User 8\n",
      "Added 6473 examples from User 8\n",
      "Processing User 9\n",
      "Added 1591 examples from User 9\n",
      "Processing User 10\n",
      "Added 3952 examples from User 10\n",
      "Processing User 11\n",
      "Added 5767 examples from User 11\n",
      "Processing User 12\n",
      "Added 4349 examples from User 12\n",
      "Processing User 13\n",
      "Added 6286 examples from User 13\n",
      "Processing User 14\n",
      "Added 704 examples from User 14\n",
      "Processing User 15\n",
      "Added 4994 examples from User 15\n",
      "Processing User 16\n",
      "Added 1772 examples from User 16\n",
      "Processing User 17\n",
      "Added 2763 examples from User 17\n",
      "Processing User 18\n",
      "Added 7479 examples from User 18\n",
      "Processing User 19\n",
      "Added 6755 examples from User 19\n",
      "Processing User 20\n",
      "Added 3053 examples from User 20\n",
      "Processing User 1\n",
      "Added 6270 examples from User 1\n",
      "Processing User 2\n",
      "Added 3677 examples from User 2\n",
      "Processing User 3\n",
      "Added 4643 examples from User 3\n",
      "Processing User 1\n",
      "Added 1 examples from User 1\n",
      "Processing User 2\n",
      "Added 5366 examples from User 2\n",
      "Processing User 3\n",
      "Added 1418 examples from User 3\n"
     ]
    }
   ],
   "source": [
    "#Run the data generator\n",
    "tr_X, tr_X_y, tr_Y, tr_Y_x = create_examples(ts_tr, X_tr, y_tr, m_tr)\n",
    "# np.savez_compressed('data/train_multi_one.npz', tr_X=tr_X, tr_X_y=tr_X_y, tr_Y=tr_Y, tr_Y_x=tr_Y_x)\n",
    "val_X, val_X_y, val_Y, val_Y_x = create_examples(ts_va, X_va, y_va, m_va)\n",
    "# np.savez_compressed('data/val_multi_one.npz', val_X=val_X, val_X_y=val_X_y, val_Y=val_Y, val_Y_x=val_Y_x)\n",
    "test_X, test_X_y, test_Y, test_Y_x = create_examples(ts_te, X_te, y_te, m_te)\n",
    "# np.savez_compressed('data/test_multi_one.npz', test_X=test_X, test_X_y=test_X_y, test_Y=test_Y, test_Y_x=test_Y_x)"
   ]
  },
  {
   "cell_type": "code",
   "execution_count": 12,
   "metadata": {},
   "outputs": [
    {
     "name": "stdout",
     "output_type": "stream",
     "text": [
      "[2527 2614 2515 2616 2519 2582 2464 2544 2510 2514 2499 2492 2555 2551\n",
      " 2508 2573 2583 2510 2502 2568 2582 2517 2537 2576 2490 2575 2456 2465\n",
      " 2460 2582]\n"
     ]
    }
   ],
   "source": [
    "# show number of training examples in sequence length between 1 and 30\n",
    "slens = []\n",
    "for i,yy in enumerate(tr_X):\n",
    "    slens.append(yy.shape[0])\n",
    "slens = np.array(slens)\n",
    "hist, bin_edges = np.histogram(slens, bins=30)\n",
    "print(hist)"
   ]
  },
  {
   "cell_type": "code",
   "execution_count": 47,
   "metadata": {},
   "outputs": [
    {
     "name": "stdout",
     "output_type": "stream",
     "text": [
      "(75986, 5) (14587, 5) (6784, 5)\n"
     ]
    }
   ],
   "source": [
    "print(tr_Y.shape, val_Y.shape, test_Y.shape)"
   ]
  },
  {
   "cell_type": "code",
   "execution_count": null,
   "metadata": {},
   "outputs": [],
   "source": [
    "# To load the dataset from file\n",
    "# train = np.load('data/train_multi_one.npz')\n",
    "# val = np.load('data/val_multi_one.npz')\n",
    "# test = np.load('data/test_multi_one.npz')\n",
    "# tr_X, tr_X_y, tr_Y, tr_Y_x = train['tr_X'], train['tr_X_y'], train['tr_Y'], train['tr_Y_x']\n",
    "# val_X, val_X_y, val_Y, val_Y_x = val['val_X'], val['val_X_y'], val['val_Y'], val['val_Y_x']\n",
    "# test_X, test_X_y, test_Y, test_Y_x = test['test_X'], test['test_X_y'], test['test_Y'], test['test_Y_x']"
   ]
  },
  {
   "cell_type": "code",
   "execution_count": 30,
   "metadata": {},
   "outputs": [
    {
     "name": "stdout",
     "output_type": "stream",
     "text": [
      "[0.9583876054020704, 0.8259409062864194, 0.9167066566120519, 0.9518064029615411, 0.9021046136971277]\n"
     ]
    }
   ],
   "source": [
    "# Persistence baseline\n",
    "from sklearn.metrics import f1_score\n",
    "preds = [xy[-1,:] for xy in val_X_y]\n",
    "preds = np.array(preds)\n",
    "f_scores = []\n",
    "for i in range(5):\n",
    "    f_scores.append(f1_score(val_Y[:,i], preds[:,i], average='micro'))\n",
    "print(f_scores)\n",
    "\n",
    "# fixed-one [0.9581417690249091, 0.8230288890413779, 0.9139504563233377, 0.9490153022713237, 0.9035888286557333]\n",
    "# multi-one [0.9583876054020704, 0.8259409062864194, 0.9167066566120519, 0.9518064029615411, 0.9021046136971277]"
   ]
  },
  {
   "cell_type": "markdown",
   "metadata": {},
   "source": [
    "# Models"
   ]
  },
  {
   "cell_type": "code",
   "execution_count": 10,
   "metadata": {},
   "outputs": [],
   "source": [
    "import sys\n",
    "sys.path.append(\"code/\")\n",
    "# import warnings\n",
    "# warnings.filterwarnings(\"ignore\")\n",
    "import torch\n",
    "import time\n",
    "from torch.utils.data import DataLoader, TensorDataset\n",
    "import torch.optim as optim\n",
    "import torch.nn.functional as F\n",
    "import torch.nn as nn\n",
    "from sklearn.metrics import f1_score\n",
    "torch.manual_seed(1)\n",
    "torch.set_default_dtype(torch.float64)\n",
    "dtype = torch.float64\n",
    "device = torch.device(\"cuda:0\" if torch.cuda.is_available() else \"cpu\")\n"
   ]
  },
  {
   "cell_type": "markdown",
   "metadata": {},
   "source": [
    "### Utility functions for neural nets"
   ]
  },
  {
   "cell_type": "code",
   "execution_count": 30,
   "metadata": {},
   "outputs": [],
   "source": [
    "def fit(loader_train, loader_val, loader_test, model, model_name, optimizer, epochs=5):\n",
    "\n",
    "    for e in tqdm(range(epochs), desc='Epochs: '):\n",
    "        for t, (x, x_y, y_x, y) in enumerate(tqdm(loader_train, desc='Iterations: ', leave=True)):\n",
    "            model.train()\n",
    "            \n",
    "            x = x.to(device=device, dtype=dtype)\n",
    "            x_y = x_y.to(device=device, dtype=torch.long)\n",
    "            y_x = y_x.to(device=device, dtype=dtype)\n",
    "            y = y.to(device=device, dtype=dtype)\n",
    "\n",
    "            preds = model(x, x_y, y_x)\n",
    "            loss = F.binary_cross_entropy(preds, y)\n",
    "            optimizer.zero_grad()\n",
    "            loss.backward()\n",
    "            optimizer.step()\n",
    "            \n",
    "        val_fscore = f_score(loader_val, model)\n",
    "        print('Epoch {0}, loss = {1:.4f}, avg_val_fscore = {2:.4f}'.format(e, loss.item(), val_fscore))\n",
    "    final_test_fscore = f_score(loader_test, model)\n",
    "    print('Final test fscore: {0:.4f}'.format(final_test_fscore))\n",
    "    model = model.to(device=torch.device('cpu'))\n",
    "    torch.save(model.state_dict(), 'code/best_model_{}.pth'.format(model_name))\n",
    "    return final_test_fscore\n",
    "\n",
    "def f_score(loader_val, model, average='micro'):\n",
    "\n",
    "    model.eval()  # set model to evaluation mode\n",
    "    true = []\n",
    "    pred = []\n",
    "    with torch.no_grad():\n",
    "        for x, x_y, y_x, y in loader_val:\n",
    "            x = x.to(device=device, dtype=dtype)\n",
    "            x_y = x_y.to(device=device, dtype=torch.long)\n",
    "            y_x = y_x.to(device=device, dtype=dtype)\n",
    "            y = y.to(device=device, dtype=torch.long)\n",
    "            preds = model(x, x_y, y_x)\n",
    "            preds = preds > 0.5\n",
    "            true.append(y.cpu().numpy())\n",
    "            pred.append(preds.cpu().numpy())\n",
    "    \n",
    "    true = np.concatenate(true, axis=0)\n",
    "    pred = np.concatenate(pred, axis=0)\n",
    "\n",
    "    f_scores = []\n",
    "    for i in range(5):\n",
    "        f_scores.append(f1_score(true[:,i], pred[:,i], average=average))\n",
    "    print('Per class f1_score: ', f_scores)\n",
    "    return (np.mean(f_scores))"
   ]
  },
  {
   "cell_type": "markdown",
   "metadata": {},
   "source": [
    "### Custom sampler and dataloader for variable length sequences"
   ]
  },
  {
   "cell_type": "code",
   "execution_count": 13,
   "metadata": {},
   "outputs": [],
   "source": [
    "from torch.utils.data import Sampler, Dataset\n",
    "from collections import OrderedDict\n",
    "import random\n",
    "random.seed(1)\n",
    "# train_data = TensorDataset(torch.from_numpy(tr_X[:,:,:]).float(),\n",
    "#                           torch.from_numpy(tr_X_y[:,:,:]).long(),\n",
    "#                           torch.from_numpy(tr_Y_x).float(),\n",
    "#                           torch.from_numpy(tr_Y).float())\n",
    "\n",
    "# val_data = TensorDataset(torch.from_numpy(val_X[:,:,:]).float(),\n",
    "#                           torch.from_numpy(val_X_y[:,:,:]).long(),\n",
    "#                           torch.from_numpy(val_Y_x).float(),\n",
    "#                           torch.from_numpy(val_Y).long())\n",
    "\n",
    "\n",
    "# loader_train = DataLoader(train_data, batch_size=64, shuffle=True, num_workers=4)\n",
    "# loader_val = DataLoader(val_data, batch_size=64, shuffle=False, num_workers=4)\n",
    "class ActivityDataset(Dataset):\n",
    "    \"\"\"Custom dataset for variable length inputs\"\"\"\n",
    "    def __init__(self, X, X_y, Y_x, Y):\n",
    "        self.X = X # (75k, 1-30, 675)\n",
    "        self.X_y = X_y # (75k, 1-30, 5)\n",
    "        self.Y_x = Y_x # (75k, 675)\n",
    "        self.Y = Y # (75k, 5)\n",
    "\n",
    "    def __len__(self):\n",
    "        return len(self.Y)\n",
    "\n",
    "    def __getitem__(self, index):\n",
    "        return (torch.from_numpy(self.X[index]).double(), \n",
    "                torch.from_numpy(self.X_y[index]).long(), \n",
    "                torch.from_numpy(self.Y_x[index]).double(), \n",
    "                torch.from_numpy(self.Y[index]).long())\n",
    "\n",
    "\n",
    "class BucketBatchSampler(Sampler):\n",
    "    \"\"\"Custom sampler to batch equal length inputs\"\"\"\n",
    "    def __init__(self, X_y, train=True, batch_size=64):\n",
    "        self.batch_size = batch_size\n",
    "        self.train = train\n",
    "        ind_n_len = []\n",
    "        for i, xy in enumerate(X_y):\n",
    "            ind_n_len.append((i, xy.shape[0]))\n",
    "        self.ind_n_len = ind_n_len\n",
    "        self.batch_list = self._generate_batch_map()\n",
    "        self.num_batches = len(self.batch_list)\n",
    "\n",
    "    def _generate_batch_map(self):\n",
    "        # shuffle all of the indices first so they are put into buckets differently\n",
    "        if self.train:\n",
    "            random.shuffle(self.ind_n_len)\n",
    "        # Organize lengths, e.g., batch_map[10] = [30, 124, 203, ...] <= indices of sequences of length 10\n",
    "        batch_map = OrderedDict()\n",
    "        for idx, length in self.ind_n_len:\n",
    "            if length not in batch_map:\n",
    "                batch_map[length] = [idx]\n",
    "            else:\n",
    "                batch_map[length].append(idx)\n",
    "        # Use batch_map to split indices into batches of equal size\n",
    "        # e.g., for batch_size=3, batch_list = [[23,45,47], [49,50,62], [63,65,66], ...]\n",
    "        batch_list = []\n",
    "        for length, indices in batch_map.items():\n",
    "            for group in [indices[i:(i + self.batch_size)] for i in range(0, len(indices), self.batch_size)]:\n",
    "                batch_list.append(group)\n",
    "        return batch_list\n",
    "\n",
    "    def batch_count(self):\n",
    "        return self.num_batches\n",
    "\n",
    "    def __len__(self):\n",
    "        return len(self.ind_n_len)\n",
    "\n",
    "    def __iter__(self):\n",
    "        self.batch_list = self._generate_batch_map()\n",
    "        # shuffle all the batches so they arent ordered by bucket size\n",
    "        if self.train:\n",
    "            random.shuffle(self.batch_list)\n",
    "        for ix in self.batch_list:\n",
    "            yield ix\n",
    "            \n",
    "\n",
    "train_batch_sampler = BucketBatchSampler(tr_X_y, train=True, batch_size=64)\n",
    "train_dataset = ActivityDataset(tr_X, tr_X_y, tr_Y_x, tr_Y)\n",
    "loader_train = DataLoader(train_dataset, batch_size=1, batch_sampler=train_batch_sampler, shuffle=False, num_workers=4, drop_last=False)\n",
    "\n",
    "val_batch_sampler = BucketBatchSampler(val_X_y, train=False, batch_size=64)\n",
    "val_dataset = ActivityDataset(val_X, val_X_y, val_Y_x, val_Y)\n",
    "loader_val = DataLoader(val_dataset, batch_size=1, batch_sampler=val_batch_sampler, shuffle=False, num_workers=4, drop_last=False)\n",
    "\n",
    "test_batch_sampler = BucketBatchSampler(test_X_y, train=False, batch_size=64)\n",
    "test_dataset = ActivityDataset(test_X, test_X_y, test_Y_x, test_Y)\n",
    "loader_test = DataLoader(test_dataset, batch_size=1, batch_sampler=test_batch_sampler, shuffle=False, num_workers=4, drop_last=False)\n",
    "\n"
   ]
  },
  {
   "cell_type": "markdown",
   "metadata": {},
   "source": [
    "## Logistic Regression"
   ]
  },
  {
   "cell_type": "code",
   "execution_count": 14,
   "metadata": {},
   "outputs": [],
   "source": [
    "from sklearn.linear_model import LogisticRegression\n",
    "# data_preprocess\n",
    "xx_tr = []\n",
    "xx_val = []\n",
    "xx_test = []\n",
    "for t, (x, x_y, y_x, y) in enumerate(loader_train):\n",
    "    xx_tr.append(x.mean(dim=1).numpy())\n",
    "for t, (x, x_y, y_x, y) in enumerate(loader_val):\n",
    "    xx_val.append(x.mean(dim=1).numpy())\n",
    "for t, (x, x_y, y_x, y) in enumerate(loader_test):\n",
    "    xx_test.append(x.mean(dim=1).numpy())\n",
    "xx_tr = np.concatenate((np.concatenate(xx_tr, axis=0), tr_Y_x), axis=1)\n",
    "xx_val = np.concatenate((np.concatenate(xx_val, axis=0), val_Y_x), axis=1)\n",
    "xx_test = np.concatenate((np.concatenate(xx_test, axis=0), test_Y_x), axis=1)"
   ]
  },
  {
   "cell_type": "code",
   "execution_count": 17,
   "metadata": {},
   "outputs": [
    {
     "name": "stderr",
     "output_type": "stream",
     "text": [
      "[Parallel(n_jobs=8)]: Using backend ThreadingBackend with 8 concurrent workers.\n"
     ]
    },
    {
     "name": "stdout",
     "output_type": "stream",
     "text": [
      "max_iter reached after 141 seconds\n"
     ]
    },
    {
     "name": "stderr",
     "output_type": "stream",
     "text": [
      "/home/dchakraborty/miniconda3/envs/pytorch/lib/python3.6/site-packages/sklearn/linear_model/sag.py:337: ConvergenceWarning: The max_iter was reached which means the coef_ did not converge\n",
      "  \"the coef_ did not converge\", ConvergenceWarning)\n",
      "[Parallel(n_jobs=8)]: Done   1 out of   1 | elapsed:  2.4min finished\n",
      "[Parallel(n_jobs=8)]: Using backend ThreadingBackend with 8 concurrent workers.\n"
     ]
    },
    {
     "name": "stdout",
     "output_type": "stream",
     "text": [
      "max_iter reached after 139 seconds\n"
     ]
    },
    {
     "name": "stderr",
     "output_type": "stream",
     "text": [
      "/home/dchakraborty/miniconda3/envs/pytorch/lib/python3.6/site-packages/sklearn/linear_model/sag.py:337: ConvergenceWarning: The max_iter was reached which means the coef_ did not converge\n",
      "  \"the coef_ did not converge\", ConvergenceWarning)\n",
      "[Parallel(n_jobs=8)]: Done   1 out of   1 | elapsed:  2.3min finished\n",
      "[Parallel(n_jobs=8)]: Using backend ThreadingBackend with 8 concurrent workers.\n"
     ]
    },
    {
     "name": "stdout",
     "output_type": "stream",
     "text": [
      "max_iter reached after 141 seconds\n"
     ]
    },
    {
     "name": "stderr",
     "output_type": "stream",
     "text": [
      "/home/dchakraborty/miniconda3/envs/pytorch/lib/python3.6/site-packages/sklearn/linear_model/sag.py:337: ConvergenceWarning: The max_iter was reached which means the coef_ did not converge\n",
      "  \"the coef_ did not converge\", ConvergenceWarning)\n",
      "[Parallel(n_jobs=8)]: Done   1 out of   1 | elapsed:  2.4min finished\n",
      "[Parallel(n_jobs=8)]: Using backend ThreadingBackend with 8 concurrent workers.\n"
     ]
    },
    {
     "name": "stdout",
     "output_type": "stream",
     "text": [
      "max_iter reached after 138 seconds\n"
     ]
    },
    {
     "name": "stderr",
     "output_type": "stream",
     "text": [
      "/home/dchakraborty/miniconda3/envs/pytorch/lib/python3.6/site-packages/sklearn/linear_model/sag.py:337: ConvergenceWarning: The max_iter was reached which means the coef_ did not converge\n",
      "  \"the coef_ did not converge\", ConvergenceWarning)\n",
      "[Parallel(n_jobs=8)]: Done   1 out of   1 | elapsed:  2.3min finished\n"
     ]
    },
    {
     "data": {
      "text/plain": [
       "LogisticRegression(C=1.0, class_weight=None, dual=False, fit_intercept=True,\n",
       "                   intercept_scaling=1, l1_ratio=None, max_iter=100,\n",
       "                   multi_class='warn', n_jobs=8, penalty='l1', random_state=1,\n",
       "                   solver='saga', tol=0.0001, verbose=1, warm_start=False)"
      ]
     },
     "execution_count": 17,
     "metadata": {},
     "output_type": "execute_result"
    }
   ],
   "source": [
    "# lr1 = LogisticRegression('l1', random_state=1, verbose=1, solver='saga', n_jobs=8)\n",
    "# lr1.fit(xx_tr, tr_Y[:,0])\n",
    "lr2 = LogisticRegression('l1', random_state=1, verbose=1, solver='saga', n_jobs=8)\n",
    "lr2.fit(xx_tr, tr_Y[:,1])\n",
    "lr3 = LogisticRegression('l1', random_state=1, verbose=1, solver='saga', n_jobs=8)\n",
    "lr3.fit(xx_tr, tr_Y[:,2])\n",
    "lr4 = LogisticRegression('l1', random_state=1, verbose=1, solver='saga', n_jobs=8)\n",
    "lr4.fit(xx_tr, tr_Y[:,3])\n",
    "lr5 = LogisticRegression('l1', random_state=1, verbose=1, solver='saga', n_jobs=8)\n",
    "lr5.fit(xx_tr, tr_Y[:,4])"
   ]
  },
  {
   "cell_type": "code",
   "execution_count": 18,
   "metadata": {},
   "outputs": [
    {
     "name": "stdout",
     "output_type": "stream",
     "text": [
      "[0.6992460589444826, 0.5190541466758053, 0.9315284441398218, 0.921932830705963, 0.8919808087731322]\n",
      "0.792748457847841\n"
     ]
    }
   ],
   "source": [
    "y_pred1 = lr1.predict(xx_val)\n",
    "y_pred2 = lr2.predict(xx_val)\n",
    "y_pred3 = lr3.predict(xx_val)\n",
    "y_pred4 = lr4.predict(xx_val)\n",
    "y_pred5 = lr5.predict(xx_val)\n",
    "fscore = [f1_score(val_Y[:,0], y_pred1, average='micro'),\n",
    "          f1_score(val_Y[:,1], y_pred2, average='micro'),\n",
    "          f1_score(val_Y[:,2], y_pred3, average='micro'),\n",
    "          f1_score(val_Y[:,3], y_pred4, average='micro'),\n",
    "          f1_score(val_Y[:,4], y_pred5, average='micro')]\n",
    "print(fscore)\n",
    "print(np.mean(fscore))"
   ]
  },
  {
   "cell_type": "code",
   "execution_count": 49,
   "metadata": {},
   "outputs": [
    {
     "data": {
      "text/plain": [
       "(75986, 225)"
      ]
     },
     "execution_count": 49,
     "metadata": {},
     "output_type": "execute_result"
    }
   ],
   "source": []
  },
  {
   "cell_type": "markdown",
   "metadata": {},
   "source": [
    "## Deep Averaging Network"
   ]
  },
  {
   "cell_type": "code",
   "execution_count": 45,
   "metadata": {},
   "outputs": [
    {
     "data": {
      "application/vnd.jupyter.widget-view+json": {
       "model_id": "5c4f542a516a428fa499f75d93e85945",
       "version_major": 2,
       "version_minor": 0
      },
      "text/plain": [
       "HBox(children=(FloatProgress(value=0.0, description='Epochs: ', max=5.0, style=ProgressStyle(description_width…"
      ]
     },
     "metadata": {},
     "output_type": "display_data"
    },
    {
     "data": {
      "application/vnd.jupyter.widget-view+json": {
       "model_id": "03fa8b724c9a44c7a6ac87c200d41368",
       "version_major": 2,
       "version_minor": 0
      },
      "text/plain": [
       "HBox(children=(FloatProgress(value=0.0, description='Iterations: ', max=75986.0, style=ProgressStyle(descripti…"
      ]
     },
     "metadata": {},
     "output_type": "display_data"
    },
    {
     "name": "stdout",
     "output_type": "stream",
     "text": [
      "\n",
      "Per class f1_score:  [0.9517378487694522, 0.8036607938575444, 0.9290464111880441, 0.9446767669843011, 0.9085487077534792]\n",
      "Epoch 0, loss = 0.3036, avg_val_fscore = 0.9075\n"
     ]
    },
    {
     "data": {
      "application/vnd.jupyter.widget-view+json": {
       "model_id": "a366d68dd71a46f2bd74ff5240dabcba",
       "version_major": 2,
       "version_minor": 0
      },
      "text/plain": [
       "HBox(children=(FloatProgress(value=0.0, description='Iterations: ', max=75986.0, style=ProgressStyle(descripti…"
      ]
     },
     "metadata": {},
     "output_type": "display_data"
    },
    {
     "name": "stdout",
     "output_type": "stream",
     "text": [
      "\n",
      "Per class f1_score:  [0.9544800164530061, 0.7955713991910605, 0.9302803866456434, 0.945156646328923, 0.908617261945568]\n",
      "Epoch 1, loss = 0.2218, avg_val_fscore = 0.9068\n"
     ]
    },
    {
     "data": {
      "application/vnd.jupyter.widget-view+json": {
       "model_id": "f131c48dd7544efda08599c00f77f372",
       "version_major": 2,
       "version_minor": 0
      },
      "text/plain": [
       "HBox(children=(FloatProgress(value=0.0, description='Iterations: ', max=75986.0, style=ProgressStyle(descripti…"
      ]
     },
     "metadata": {},
     "output_type": "display_data"
    },
    {
     "name": "stdout",
     "output_type": "stream",
     "text": [
      "\n",
      "Per class f1_score:  [0.9542057996846507, 0.8057174196202098, 0.9307602659902653, 0.9448138753684788, 0.9088229245218346]\n",
      "Epoch 2, loss = 0.1617, avg_val_fscore = 0.9089\n"
     ]
    },
    {
     "data": {
      "application/vnd.jupyter.widget-view+json": {
       "model_id": "07e87f45148041569f7fd9a190f835ad",
       "version_major": 2,
       "version_minor": 0
      },
      "text/plain": [
       "HBox(children=(FloatProgress(value=0.0, description='Iterations: ', max=75986.0, style=ProgressStyle(descripti…"
      ]
     },
     "metadata": {},
     "output_type": "display_data"
    },
    {
     "name": "stdout",
     "output_type": "stream",
     "text": [
      "\n",
      "Per class f1_score:  [0.9537944745321176, 0.8027010351683005, 0.9313772537190648, 0.9425515870295469, 0.9100568999794337]\n",
      "Epoch 3, loss = 0.2298, avg_val_fscore = 0.9081\n"
     ]
    },
    {
     "data": {
      "application/vnd.jupyter.widget-view+json": {
       "model_id": "d269709b34234efeb3eab4597286e650",
       "version_major": 2,
       "version_minor": 0
      },
      "text/plain": [
       "HBox(children=(FloatProgress(value=0.0, description='Iterations: ', max=75986.0, style=ProgressStyle(descripti…"
      ]
     },
     "metadata": {},
     "output_type": "display_data"
    },
    {
     "name": "stdout",
     "output_type": "stream",
     "text": [
      "\n",
      "Per class f1_score:  [0.9544114622609172, 0.8040035648179886, 0.9319256872557757, 0.9417974909165695, 0.9105367793240556]\n",
      "Epoch 4, loss = 0.2213, avg_val_fscore = 0.9085\n",
      "\n",
      "Per class f1_score:  [0.9460495283018868, 0.8394752358490566, 0.9122936320754718, 0.8621757075471698, 0.9246757075471698]\n",
      "Final test fscore: 0.8969\n"
     ]
    }
   ],
   "source": [
    "from DAN import DAN\n",
    "model = DAN(d_emb=32, hidden_sizes=[512, 128], dropout=0.25)\n",
    "if torch.cuda.device_count() > 1:\n",
    "    model = nn.DataParallel(model)\n",
    "model = model.to(device=device)\n",
    "optimizer = optim.Adam(model.parameters(), lr=0.0001, weight_decay=0.0001)\n",
    "test_fscore = fit(loader_train, loader_val, loader_test, model, 'dan', optimizer, epochs=5)"
   ]
  },
  {
   "cell_type": "markdown",
   "metadata": {},
   "source": [
    "## Gated Recurrent Unit"
   ]
  },
  {
   "cell_type": "code",
   "execution_count": 31,
   "metadata": {
    "scrolled": false
   },
   "outputs": [
    {
     "data": {
      "application/vnd.jupyter.widget-view+json": {
       "model_id": "049bf0419d5648bca61631cd1a9d2daa",
       "version_major": 2,
       "version_minor": 0
      },
      "text/plain": [
       "HBox(children=(FloatProgress(value=0.0, description='Epochs: ', max=3.0, style=ProgressStyle(description_width…"
      ]
     },
     "metadata": {},
     "output_type": "display_data"
    },
    {
     "data": {
      "application/vnd.jupyter.widget-view+json": {
       "model_id": "107dc64b423646c8942b65ef751ca8fb",
       "version_major": 2,
       "version_minor": 0
      },
      "text/plain": [
       "HBox(children=(FloatProgress(value=0.0, description='Iterations: ', max=75952.0, style=ProgressStyle(descripti…"
      ]
     },
     "metadata": {},
     "output_type": "display_data"
    },
    {
     "name": "stdout",
     "output_type": "stream",
     "text": [
      "\n",
      "Per class f1_score:  [0.9592186429061, 0.8267306374228925, 0.9383139136394791, 0.9481151473612063, 0.9134338588074024]\n",
      "Epoch 0, loss = 0.3244, avg_val_fscore = 0.9172\n"
     ]
    },
    {
     "data": {
      "application/vnd.jupyter.widget-view+json": {
       "model_id": "e794599444b844c5b981d7660918e64e",
       "version_major": 2,
       "version_minor": 0
      },
      "text/plain": [
       "HBox(children=(FloatProgress(value=0.0, description='Iterations: ', max=75952.0, style=ProgressStyle(descripti…"
      ]
     },
     "metadata": {},
     "output_type": "display_data"
    },
    {
     "name": "stdout",
     "output_type": "stream",
     "text": [
      "\n",
      "Per class f1_score:  [0.9552433173406443, 0.8267991775188486, 0.9332419465387252, 0.9462645647703907, 0.9110349554489376]\n",
      "Epoch 1, loss = 0.1792, avg_val_fscore = 0.9145\n"
     ]
    },
    {
     "data": {
      "application/vnd.jupyter.widget-view+json": {
       "model_id": "26cbfaa8e4c54a6ba2a76240a9069365",
       "version_major": 2,
       "version_minor": 0
      },
      "text/plain": [
       "HBox(children=(FloatProgress(value=0.0, description='Iterations: ', max=75952.0, style=ProgressStyle(descripti…"
      ]
     },
     "metadata": {},
     "output_type": "display_data"
    },
    {
     "name": "stdout",
     "output_type": "stream",
     "text": [
      "\n",
      "Per class f1_score:  [0.9538039753255655, 0.8228238519533927, 0.9368060315284441, 0.9465387251542152, 0.9123372172721042]\n",
      "Epoch 2, loss = 0.2844, avg_val_fscore = 0.9145\n",
      "\n",
      "Per class f1_score:  [0.9538039753255655, 0.8228238519533927, 0.9368060315284441, 0.9465387251542152, 0.9123372172721042]\n",
      "Final test fscore: 0.9145\n"
     ]
    }
   ],
   "source": [
    "from GRU import APM\n",
    "\n",
    "model = APM(d_emb=32, d_hid=128, n_layers=2, dropout=0.25)\n",
    "model = model.to(device=device)\n",
    "optimizer = optim.Adam(model.parameters(), lr=0.001, weight_decay=0.0001)\n",
    "test_fscore = fit(loader_train, loader_val, loader_val, model, 'gru', optimizer, epochs=3)\n",
    "\n",
    "# [0.9282234268853359, 0.7537226377547518, 0.927743086529884, 0.9264393055650861, 0.8911685994647636]\n",
    "# multi-one [0.9583876054020704, 0.8259409062864194, 0.9167066566120519, 0.9518064029615411, 0.9021046136971277]"
   ]
  },
  {
   "cell_type": "code",
   "execution_count": null,
   "metadata": {},
   "outputs": [],
   "source": []
  }
 ],
 "metadata": {
  "kernelspec": {
   "display_name": "Python 3",
   "language": "python",
   "name": "python3"
  },
  "language_info": {
   "codemirror_mode": {
    "name": "ipython",
    "version": 3
   },
   "file_extension": ".py",
   "mimetype": "text/x-python",
   "name": "python",
   "nbconvert_exporter": "python",
   "pygments_lexer": "ipython3",
   "version": "3.6.9"
  }
 },
 "nbformat": 4,
 "nbformat_minor": 2
}
